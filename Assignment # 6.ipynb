{
 "cells": [
  {
   "cell_type": "code",
   "execution_count": 4,
   "metadata": {},
   "outputs": [
    {
     "name": "stdout",
     "output_type": "stream",
     "text": [
      "red\n",
      "alto\n",
      "180\n",
      "2017\n",
      "black\n",
      "mehran\n",
      "160\n",
      "2018\n",
      "white\n",
      "corola\n",
      "220\n",
      "2019\n"
     ]
    }
   ],
   "source": [
    "class Car():\n",
    "\n",
    "  def __init__(self, model,color,company,speed_limit,):\n",
    "\n",
    "        self.model = model\n",
    "        self.color = color\n",
    "        self.company = company\n",
    "        self.speed_limit = speed_limit\n",
    "    \n",
    "    \n",
    "car1 = Car(2017,'red','alto',180)\n",
    "car2 = Car(2018,'black','mehran',160)\n",
    "car3 = Car(2019,'white','corola',220)\n",
    "\n",
    "print(car1.color)\n",
    "print(car1.company)\n",
    "print(car1.speed_limit)\n",
    "print(car1.model)\n",
    "print(car2.color)\n",
    "print(car2.company)\n",
    "print(car2.speed_limit)\n",
    "print(car2.model)\n",
    "print(car3.color)\n",
    "print(car3.company)\n",
    "print(car3.speed_limit)\n",
    "print(car3.model)\n",
    "\n",
    "  "
   ]
  },
  {
   "cell_type": "markdown",
   "metadata": {},
   "source": [
    "# Q: Define Object Oriented Programming Language? \n",
    "\n",
    "Object-oriented programming (OOP) is a programming language model in which programs are organized around data, or objects, rather than functions and logic. An object can be defined as a data field that has unique attributes and behavior. Examples of an object can range from physical entities, such as a human being that is described by properties like name and address, down to small computer programs, such as widgets. This opposes the historical approach to programming where emphasis was placed on how the logic was written rather than how to define the data within the logic.\n",
    "\n",
    "# Q: List down the Benefits of OOP?\n",
    "\n",
    "1. Modularity for easier troubleshooting\n",
    "2. Reuse of code through inheritance\n",
    "3. Flexibility through polymorphism\n",
    "4. Effective problem solving\n",
    "\n",
    "# Q: Differentiate between function and method?\n",
    "Method\n",
    "\n",
    "Method is called by its name, but it is associated to an object (dependent).\n",
    "A method is implicitly passed the object on which it is invoked.\n",
    "It may or may not return any data.\n",
    "A method can operate on the data (instance variables) that is contained by the corresponding class\n",
    "\n",
    "Functions\n",
    "\n",
    "Function is block of code that is also called by its name. (independent)\n",
    "The function can have different parameters or may not have any at all. If any data (parameters) are passed, they are passed explicitly.\n",
    "It may or may not return any data.\n",
    "Function does not deal with Class and its instance concept.\n",
    "\n",
    "# Q: Define the following terms: 1. Class 2. Object 3. Attribute 4. Behavior ?\n",
    "\n",
    "class:\n",
    "a class describes the contents of the objects that belong to it: it describes an aggregate of data fields (called instance variables), and defines the operations (called methods).\n",
    "object:\n",
    "an object is an element (or instance) of a class; objects have the behaviors of their class. The object is the actual component of programs, while the class specifies how instances are created and how they behave.\n",
    "Attribute:\n",
    "An Attribute is a named property of a class. It has a type. It describes the range of values that that property may hold.\n",
    "Behaviour:\n",
    "is an approach and technique for software development, which enables incremental development in a natural way. A behavioral application consists of threads of behavior each of which represents an independent scenario that the system should and shouldn't follow.\n",
    " \n",
    "\n"
   ]
  }
 ],
 "metadata": {
  "kernelspec": {
   "display_name": "Python 3",
   "language": "python",
   "name": "python3"
  },
  "language_info": {
   "codemirror_mode": {
    "name": "ipython",
    "version": 3
   },
   "file_extension": ".py",
   "mimetype": "text/x-python",
   "name": "python",
   "nbconvert_exporter": "python",
   "pygments_lexer": "ipython3",
   "version": "3.7.4"
  }
 },
 "nbformat": 4,
 "nbformat_minor": 2
}
