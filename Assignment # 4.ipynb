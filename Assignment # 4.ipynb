{
 "cells": [
  {
   "cell_type": "code",
   "execution_count": 5,
   "metadata": {},
   "outputs": [
    {
     "name": "stdout",
     "output_type": "stream",
     "text": [
      "Guess a number14\n",
      "You are far\n",
      "Guess a number13\n",
      "You are far\n",
      "Guess a number9\n",
      "You are far\n",
      "Guess a number26\n",
      "You are far\n",
      "Guess a number1\n",
      "You are Close\n",
      "Guess a number2\n",
      "You are Close\n",
      "Guess a number5\n",
      "You are far\n",
      "Guess a number4\n",
      "You got it!\n"
     ]
    }
   ],
   "source": [
    "import random\n",
    "it=random.randint(0, 30)\n",
    "def main():\n",
    "    x=int(input('Guess a number'))\n",
    "    if x == it:\n",
    "        print(\"You got it!\")\n",
    "    elif x > it:\n",
    "        print(\"You are far\")\n",
    "        main()\n",
    "    elif x < it: \n",
    "        print(\"You are Close\")\n",
    "        main()\n",
    "    else:\n",
    "        print(\"Invalid no\")\n",
    "        main()\n",
    "main()"
   ]
  },
  {
   "cell_type": "code",
   "execution_count": 6,
   "metadata": {},
   "outputs": [
    {
     "name": "stdout",
     "output_type": "stream",
     "text": [
      "The Abstract Wild is one of my favorite books.\n"
     ]
    }
   ],
   "source": [
    "def favorite_book(title):\n",
    "    \"\"\"Display a message about someone's favorite book.\"\"\"\n",
    "    print(title + \" is one of my favorite books.\")\n",
    "\n",
    "favorite_book('The Abstract Wild')"
   ]
  },
  {
   "cell_type": "code",
   "execution_count": 7,
   "metadata": {},
   "outputs": [
    {
     "name": "stdout",
     "output_type": "stream",
     "text": [
      "How old are you?\n",
      "Enter 'quit' when you are finished. 4\n",
      "  Your ticket is $10.\n",
      "How old are you?\n",
      "Enter 'quit' when you are finished. 25\n",
      "  Your ticket is $15.\n",
      "How old are you?\n",
      "Enter 'quit' when you are finished. 10\n",
      "  Your ticket is $10.\n",
      "How old are you?\n",
      "Enter 'quit' when you are finished. 45\n",
      "  Your ticket is $15.\n",
      "How old are you?\n",
      "Enter 'quit' when you are finished. quit\n"
     ]
    }
   ],
   "source": [
    "prompt = \"How old are you?\"\n",
    "prompt += \"\\nEnter 'quit' when you are finished. \"\n",
    "\n",
    "while True:\n",
    "    age = input(prompt)\n",
    "    if age == 'quit':\n",
    "        break\n",
    "    age = int(age)\n",
    "\n",
    "    if age < 3:\n",
    "        print(\"  You get in free!\")\n",
    "    elif age < 13:\n",
    "        print(\"  Your ticket is $10.\")\n",
    "    else:\n",
    "        print(\"  Your ticket is $15.\")"
   ]
  },
  {
   "cell_type": "code",
   "execution_count": 8,
   "metadata": {},
   "outputs": [
    {
     "name": "stdout",
     "output_type": "stream",
     "text": [
      "\n",
      "Karachi is in Pakistan.\n",
      "  It has a population of about 1800000.\n",
      "  The Arabian Sea  is popular place of karachi.\n",
      "\n",
      "Washington is in Usa.\n",
      "  It has a population of about 5600000.\n",
      "  The White House is popular place of Washington.\n",
      "\n",
      "New Delhi is in India.\n",
      "  It has a population of about 9500000.\n",
      "  The Qutub Minar is popular place of New Delhi.\n"
     ]
    }
   ],
   "source": [
    "cities = {\n",
    "    'karachi': {\n",
    "        'country': 'pakistan',\n",
    "        'population': 1800000,\n",
    "        'nearby': 'Arabian Sea ',\n",
    "        },\n",
    "    'Washington': {\n",
    "        'country': 'USA',\n",
    "        'population': 5600000,\n",
    "        'nearby': 'White house',\n",
    "        },\n",
    "    'New Delhi': {\n",
    "        'country': 'India',\n",
    "        'population': 9500000,\n",
    "        'nearby': 'Qutub Minar',\n",
    "        }\n",
    "    }\n",
    "\n",
    "for city, city_info in cities.items():\n",
    "    country = city_info['country'].title()\n",
    "    population = city_info['population']\n",
    "    nearby = city_info['nearby'].title()\n",
    "\n",
    "    print(\"\\n\" + city.title() + \" is in \" + country + \".\")\n",
    "    print(\"  It has a population of about \" + str(population) + \".\")\n",
    "    print(\"  The \" + nearby + \" is popular place of \"+ city + \".\")"
   ]
  },
  {
   "cell_type": "code",
   "execution_count": 9,
   "metadata": {},
   "outputs": [
    {
     "name": "stdout",
     "output_type": "stream",
     "text": [
      "ali\n",
      "haider\n",
      "35\n",
      "karachi\n"
     ]
    }
   ],
   "source": [
    "person = {\n",
    "    'first_name': 'ali',\n",
    "    'last_name': 'haider',\n",
    "    'age': 35,\n",
    "    'city': 'karachi',\n",
    "    }\n",
    "\n",
    "print(person['first_name'])\n",
    "print(person['last_name'])\n",
    "print(person['age'])\n",
    "print(person['city'])"
   ]
  },
  {
   "cell_type": "code",
   "execution_count": 10,
   "metadata": {},
   "outputs": [
    {
     "name": "stdout",
     "output_type": "stream",
     "text": [
      "{'first_name': 'ali', 'last_name': 'haider', 'age': 35, 'city': 'karachi', 'Qualification': 'Postgraduate'}\n"
     ]
    }
   ],
   "source": [
    "person.update( {'Qualification' : 'Postgraduate'})\n",
    "print (person)\n"
   ]
  },
  {
   "cell_type": "code",
   "execution_count": 11,
   "metadata": {},
   "outputs": [
    {
     "name": "stdout",
     "output_type": "stream",
     "text": [
      "{'first_name': 'ali', 'last_name': 'haider', 'age': 35, 'city': 'karachi'}\n"
     ]
    }
   ],
   "source": [
    "person.pop('Qualification')\n",
    "print(person)"
   ]
  },
  {
   "cell_type": "code",
   "execution_count": null,
   "metadata": {},
   "outputs": [],
   "source": []
  }
 ],
 "metadata": {
  "kernelspec": {
   "display_name": "Python 3",
   "language": "python",
   "name": "python3"
  },
  "language_info": {
   "codemirror_mode": {
    "name": "ipython",
    "version": 3
   },
   "file_extension": ".py",
   "mimetype": "text/x-python",
   "name": "python",
   "nbconvert_exporter": "python",
   "pygments_lexer": "ipython3",
   "version": "3.7.4"
  }
 },
 "nbformat": 4,
 "nbformat_minor": 2
}
